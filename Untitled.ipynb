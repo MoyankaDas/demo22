{
 "cells": [
  {
   "cell_type": "markdown",
   "id": "e735b7d5-b347-426d-9f67-11abc5232096",
   "metadata": {},
   "source": [
    "Write CSV"
   ]
  },
  {
   "cell_type": "code",
   "execution_count": 7,
   "id": "a1fb94f0-780e-4d87-9086-cfe01340ce5b",
   "metadata": {},
   "outputs": [
    {
     "name": "stdout",
     "output_type": "stream",
     "text": [
      "   a  b\n",
      "0  1  4\n",
      "1  2  5\n",
      "2  3  6\n"
     ]
    }
   ],
   "source": [
    "import pandas as pd\n",
    "dic={\"a\":[1,2,3],\"b\":[4,5,6]}\n",
    "d=pd.DataFrame(dic)\n",
    "print(d)\n",
    "d.to_csv(\"test2.csv\",index=False,header=[1,2])"
   ]
  },
  {
   "cell_type": "code",
   "execution_count": null,
   "id": "3ff9a7a9-940f-4d1a-8533-6f2618e96bc5",
   "metadata": {},
   "outputs": [],
   "source": []
  }
 ],
 "metadata": {
  "kernelspec": {
   "display_name": "Python 3 (ipykernel)",
   "language": "python",
   "name": "python3"
  },
  "language_info": {
   "codemirror_mode": {
    "name": "ipython",
    "version": 3
   },
   "file_extension": ".py",
   "mimetype": "text/x-python",
   "name": "python",
   "nbconvert_exporter": "python",
   "pygments_lexer": "ipython3",
   "version": "3.11.5"
  }
 },
 "nbformat": 4,
 "nbformat_minor": 5
}
