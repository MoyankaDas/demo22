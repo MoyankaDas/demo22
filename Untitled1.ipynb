{
 "cells": [
  {
   "cell_type": "markdown",
   "id": "691d5e70-531d-4e73-a626-bb372099615a",
   "metadata": {},
   "source": [
    "Read CSV"
   ]
  },
  {
   "cell_type": "code",
   "execution_count": 1,
   "id": "f9362627-38f7-4d69-966a-72444ed91a24",
   "metadata": {},
   "outputs": [
    {
     "name": "stdout",
     "output_type": "stream",
     "text": [
      "   Unnamed: 0  a  b\n",
      "0           0  1  4\n",
      "1           1  2  5\n",
      "2           2  3  6\n"
     ]
    }
   ],
   "source": [
    "import pandas as pd\n",
    "var=pd.read_csv(\"C:\\\\Users\\\\hp\\\\OneDrive\\\\Desktop\\\\jupyter\\\\test.csv\")\n",
    "print(var)"
   ]
  },
  {
   "cell_type": "code",
   "execution_count": 2,
   "id": "6512c869-cb54-4860-9e9e-5ddee38c91f0",
   "metadata": {},
   "outputs": [
    {
     "name": "stdout",
     "output_type": "stream",
     "text": [
      "   Unnamed: 0  a  b\n",
      "0           0  1  4\n",
      "1           1  2  5\n"
     ]
    }
   ],
   "source": [
    "import pandas as pd\n",
    "var=pd.read_csv(\"C:\\\\Users\\\\hp\\\\OneDrive\\\\Desktop\\\\jupyter\\\\test.csv\",nrows=2)\n",
    "print(var)"
   ]
  },
  {
   "cell_type": "code",
   "execution_count": 3,
   "id": "45905fa4-9e70-4600-b09c-6b343933b926",
   "metadata": {},
   "outputs": [
    {
     "name": "stdout",
     "output_type": "stream",
     "text": [
      "   Unnamed: 0\n",
      "0           0\n",
      "1           1\n",
      "2           2\n"
     ]
    }
   ],
   "source": [
    "import pandas as pd\n",
    "var=pd.read_csv(\"C:\\\\Users\\\\hp\\\\OneDrive\\\\Desktop\\\\jupyter\\\\test.csv\",usecols=[0])\n",
    "print(var)"
   ]
  },
  {
   "cell_type": "code",
   "execution_count": 4,
   "id": "bc2c759e-82d5-4576-b2c5-e5e1c2af4394",
   "metadata": {},
   "outputs": [
    {
     "name": "stdout",
     "output_type": "stream",
     "text": [
      "   Unnamed: 0  a  b\n",
      "0           1  2  5\n",
      "1           2  3  6\n"
     ]
    }
   ],
   "source": [
    "import pandas as pd\n",
    "var=pd.read_csv(\"C:\\\\Users\\\\hp\\\\OneDrive\\\\Desktop\\\\jupyter\\\\test.csv\",skiprows=[1])\n",
    "print(var)"
   ]
  },
  {
   "cell_type": "code",
   "execution_count": 5,
   "id": "495fc51b-9cc3-4761-ab48-f10abb0021bf",
   "metadata": {},
   "outputs": [
    {
     "name": "stdout",
     "output_type": "stream",
     "text": [
      "   Unnamed: 0  b\n",
      "a               \n",
      "1           0  4\n",
      "2           1  5\n",
      "3           2  6\n"
     ]
    }
   ],
   "source": [
    "import pandas as pd\n",
    "var=pd.read_csv(\"C:\\\\Users\\\\hp\\\\OneDrive\\\\Desktop\\\\jupyter\\\\test.csv\",index_col=1)\n",
    "print(var)"
   ]
  },
  {
   "cell_type": "code",
   "execution_count": 8,
   "id": "e8b42795-2346-4856-a782-3b976bc8f4a5",
   "metadata": {},
   "outputs": [
    {
     "name": "stdout",
     "output_type": "stream",
     "text": [
      "   Unnamed: 0  a  b\n",
      "0           0  1  4\n",
      "1           1  2  5\n",
      "2           2  3  6\n"
     ]
    }
   ],
   "source": [
    "import pandas as pd\n",
    "var=pd.read_csv(\"C:\\\\Users\\\\hp\\\\OneDrive\\\\Desktop\\\\jupyter\\\\test.csv\",header=0)\n",
    "print(var)"
   ]
  },
  {
   "cell_type": "code",
   "execution_count": null,
   "id": "93604974-a7bb-4e8d-9e54-1182bbfd36e4",
   "metadata": {},
   "outputs": [],
   "source": []
  }
 ],
 "metadata": {
  "kernelspec": {
   "display_name": "Python 3 (ipykernel)",
   "language": "python",
   "name": "python3"
  },
  "language_info": {
   "codemirror_mode": {
    "name": "ipython",
    "version": 3
   },
   "file_extension": ".py",
   "mimetype": "text/x-python",
   "name": "python",
   "nbconvert_exporter": "python",
   "pygments_lexer": "ipython3",
   "version": "3.11.5"
  }
 },
 "nbformat": 4,
 "nbformat_minor": 5
}
